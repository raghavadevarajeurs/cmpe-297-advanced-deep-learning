{
  "nbformat": 4,
  "nbformat_minor": 0,
  "metadata": {
    "colab": {
      "name": "SimClr_Pytorch.ipynb",
      "provenance": []
    },
    "kernelspec": {
      "display_name": "Python 3",
      "language": "python",
      "name": "python3"
    },
    "language_info": {
      "codemirror_mode": {
        "name": "ipython",
        "version": 3
      },
      "file_extension": ".py",
      "mimetype": "text/x-python",
      "name": "python",
      "nbconvert_exporter": "python",
      "pygments_lexer": "ipython3",
      "version": "3.8.5"
    },
    "accelerator": "TPU"
  },
  "cells": [
    {
      "cell_type": "markdown",
      "metadata": {
        "id": "2PhAfTSw3AQp"
      },
      "source": [
        "# Imports for implementing SimClr in Pytorch"
      ]
    },
    {
      "cell_type": "code",
      "metadata": {
        "id": "0mTNGewWfblA"
      },
      "source": [
        "import os\n",
        "import torch\n",
        "import zipfile\n",
        "import numpy as np\n",
        "import matplotlib.pyplot as plt\n",
        "import seaborn as sns\n",
        "\n",
        "# Imports Related to image manipulation\n",
        "from PIL import Image\n",
        "from collections import OrderedDict, namedtuple\n",
        "\n",
        "# PyTorch Related Imports\n",
        "import torch.nn as nn\n",
        "import torchvision.transforms as transforms\n",
        "from torchvision.models import resnet18"
      ],
      "execution_count": 1,
      "outputs": []
    },
    {
      "cell_type": "markdown",
      "metadata": {
        "id": "if5xJZuK3AQt"
      },
      "source": [
        "# Loss Plotting Utility Function"
      ]
    },
    {
      "cell_type": "code",
      "metadata": {
        "id": "jTff8i7hfqUm"
      },
      "source": [
        "def plot_losses(arr, legend_name):\n",
        "    plt.figure(figsize=(10, 10))\n",
        "    sns.set_style('darkgrid')\n",
        "    plt.plot(arr)\n",
        "    plt.xlabel('Steps')\n",
        "    plt.ylabel('Loss')\n",
        "    plt.show()"
      ],
      "execution_count": 2,
      "outputs": []
    },
    {
      "cell_type": "markdown",
      "metadata": {
        "id": "xXkrc5RK3AQu"
      },
      "source": [
        "# Downloading images from imagenet"
      ]
    },
    {
      "cell_type": "markdown",
      "metadata": {
        "id": "BCRdDm6X3AQu"
      },
      "source": [
        "Have used imagenet 5 categories dataset. This has a total of 1250 train and 250 test images."
      ]
    },
    {
      "cell_type": "code",
      "metadata": {
        "colab": {
          "base_uri": "https://localhost:8080/"
        },
        "id": "N1SVndwUfslr",
        "outputId": "9270b29e-39ee-4eda-be32-edd1be513ab4"
      },
      "source": [
        "!gdown https://drive.google.com/uc?id=1x3BSoqoe76FcWdbagLj6Mx6_2EAJ982g\n",
        "\n",
        "with zipfile.ZipFile('milli_imagenet.zip', 'r') as zip_ref:\n",
        "  zip_ref.extractall('/content/')"
      ],
      "execution_count": 3,
      "outputs": [
        {
          "output_type": "stream",
          "name": "stdout",
          "text": [
            "Downloading...\n",
            "From: https://drive.google.com/uc?id=1x3BSoqoe76FcWdbagLj6Mx6_2EAJ982g\n",
            "To: /content/milli_imagenet.zip\n",
            "92.9MB [00:00, 151MB/s]\n"
          ]
        }
      ]
    },
    {
      "cell_type": "markdown",
      "metadata": {
        "id": "z-029Nj_3AQv"
      },
      "source": [
        "# Labels that are available in mini_imagenet"
      ]
    },
    {
      "cell_type": "markdown",
      "metadata": {
        "id": "kDTlWhfQ3AQw"
      },
      "source": [
        "There are five labels in mini imagenet"
      ]
    },
    {
      "cell_type": "code",
      "metadata": {
        "colab": {
          "base_uri": "https://localhost:8080/"
        },
        "id": "fzXtfXhKfu3w",
        "outputId": "a093c544-545a-413c-d377-cbb5334ae4b3"
      },
      "source": [
        "!cat milli_imagenet/mapper.json"
      ],
      "execution_count": 4,
      "outputs": [
        {
          "output_type": "stream",
          "name": "stdout",
          "text": [
            "{\"car\": 0, \"airplane\": 1, \"elephant\": 2, \"dog\": 3, \"cat\": 4}\n"
          ]
        }
      ]
    },
    {
      "cell_type": "markdown",
      "metadata": {
        "id": "r_Ff-mzo3AQx"
      },
      "source": [
        "# Training DataSet"
      ]
    },
    {
      "cell_type": "markdown",
      "metadata": {
        "id": "Yy6EvK6T3AQx"
      },
      "source": [
        "The training data consist of 5 different images and these images needs to be augmented in order to produce samples of positive and negative images."
      ]
    },
    {
      "cell_type": "code",
      "metadata": {
        "id": "cggElZCLfxpU"
      },
      "source": [
        "class TrainDataset(torch.utils.data.Dataset):\n",
        "    def __init__(self, args):\n",
        "        self.args = args\n",
        "        with open(os.path.join(args.datapath, \"train\",\"names.txt\")) as f:\n",
        "            self.filenames = f.read().split('\\n')\n",
        " \n",
        "    def __len__(self):\n",
        "        return len(self.filenames)\n",
        "\n",
        "    def tensorify(self, img):\n",
        "        return transforms.Normalize((0.5, 0.5, 0.5), (0.5, 0.5, 0.5))(\n",
        "            transforms.ToTensor()(img)\n",
        "            )\n",
        "    # This function produced distortion in colors based on arguments s\n",
        "    def get_color_distortion(self, s=1.0):\n",
        "        color_jitter = transforms.ColorJitter(0.8 * s, 0.8 * s, 0.8 * s, 0.2 * s)\n",
        "        rnd_color_jitter =  transforms.RandomApply([color_jitter], p=0.8)\n",
        "        rnd_gray =  transforms.RandomGrayscale(p=0.2)\n",
        "        color_distort =  transforms.Compose([rnd_color_jitter, rnd_gray])\n",
        "        return color_distort\n",
        "\n",
        "    # Helps in augmentation of images\n",
        "    def augmented_image(self, img):\n",
        "        return self.get_color_distortion(1)(\n",
        "            transforms.RandomResizedCrop(224)(img)\n",
        "            )    \n",
        "\n",
        "    def __getitem__(self, idx):\n",
        "        img = transforms.Resize((224, 224))(\n",
        "                                Image.open(os.path.join(args.datapath, 'train', self.filenames[idx])).convert('RGB')\n",
        "                            )\n",
        "        return {\n",
        "        'image1':self.tensorify(\n",
        "            self.augmented_image(img)\n",
        "            ), \n",
        "        'image2': self.tensorify(\n",
        "            self.augmented_image(img)\n",
        "            )\n",
        "        }"
      ],
      "execution_count": 5,
      "outputs": []
    },
    {
      "cell_type": "markdown",
      "metadata": {
        "id": "h_sRSkoy3AQy"
      },
      "source": [
        "## Defining NT-Xent Loss Function or Noramlized Temperature Scaled Cross Entropy Loss"
      ]
    },
    {
      "cell_type": "code",
      "metadata": {
        "id": "f8Z9ZQ49f0Hc"
      },
      "source": [
        "tau = 0.05\n",
        "\n",
        "# Function that calculates NT-Xent\n",
        "def loss_function(a, b):\n",
        "    a_norm = torch.norm(a, dim=1).reshape(-1, 1)\n",
        "    a_cap = torch.div(a, a_norm)\n",
        "    b_norm = torch.norm(b, dim=1).reshape(-1, 1)\n",
        "    b_cap = torch.div(b, b_norm)\n",
        "    a_cap_b_cap = torch.cat([a_cap, b_cap], dim=0)\n",
        "    a_cap_b_cap_transpose = torch.t(a_cap_b_cap)\n",
        "    b_cap_a_cap = torch.cat([b_cap, a_cap], dim=0)\n",
        "    sim = torch.mm(a_cap_b_cap, a_cap_b_cap_transpose)\n",
        "    sim_by_tau = torch.div(sim, tau)\n",
        "    exp_sim_by_tau = torch.exp(sim_by_tau)\n",
        "    sum_of_rows = torch.sum(exp_sim_by_tau, dim=1)\n",
        "    exp_sim_by_tau_diag = torch.diag(exp_sim_by_tau)\n",
        "    numerators = torch.exp(torch.div(torch.nn.CosineSimilarity()(a_cap_b_cap, b_cap_a_cap), tau))\n",
        "    denominators = sum_of_rows - exp_sim_by_tau_diag\n",
        "    num_by_den = torch.div(numerators, denominators)\n",
        "    neglog_num_by_den = -torch.log(num_by_den)\n",
        "    return torch.mean(neglog_num_by_den)"
      ],
      "execution_count": 6,
      "outputs": []
    },
    {
      "cell_type": "markdown",
      "metadata": {
        "id": "uz_DAcSg3AQz"
      },
      "source": [
        "## Defining the resnet 18 model and initializing the first layer"
      ]
    },
    {
      "cell_type": "code",
      "metadata": {
        "id": "4XZlYhEAf1_o"
      },
      "source": [
        "def get_model(args):\n",
        "    resnet = resnet18(pretrained=False)\n",
        "\n",
        "    head = nn.Sequential(OrderedDict([\n",
        "        ('fc1', nn.Linear(resnet.fc.in_features, 100)),\n",
        "        ('added_relu1', nn.ReLU(inplace=True)),\n",
        "        ('fc2', nn.Linear(100, 100)),\n",
        "        ('added_relu2', nn.ReLU(inplace=True)),\n",
        "        ('fc3', nn.Linear(100, 100))\n",
        "    ]))\n",
        "\n",
        "    resnet.fc = head\n",
        "\n",
        "    if args.multiple_gpus:\n",
        "        resnet = nn.DataParallel(resnet)\n",
        "\n",
        "    resnet.to(args.device)\n",
        "\n",
        "    return resnet"
      ],
      "execution_count": 7,
      "outputs": []
    },
    {
      "cell_type": "markdown",
      "metadata": {
        "id": "cPgcjJgg3AQz"
      },
      "source": [
        "## SimClr implementation Training loop"
      ]
    },
    {
      "cell_type": "code",
      "metadata": {
        "id": "yH4UTWcEf4Ve"
      },
      "source": [
        "class SimCLR:\n",
        "    def __init__(self, model, optimizer, dataloaders, loss_fn):\n",
        "        self.model = model\n",
        "        self.optimizer = optimizer\n",
        "        self.dataloaders = dataloaders\n",
        "        self.loss_fn = loss_fn\n",
        "\n",
        "    def train(self, args, num_epochs, log_interval):\n",
        "        batch_losses = []\n",
        "\n",
        "        self.model.train()\n",
        "    \n",
        "        # run a for loop for num_epochs\n",
        "        for epoch in range(num_epochs):\n",
        "\n",
        "            # run a for loop for each batch\n",
        "            for step, batch in enumerate(self.dataloaders['train']):\n",
        "                # zero out grads\n",
        "                self.optimizer.zero_grad()\n",
        "\n",
        "                x1 = batch['image1'].to(args.device)\n",
        "                x2 = batch['image2'].to(args.device)\n",
        "\n",
        "                # get their outputs\n",
        "                y1 = self.model(x1)\n",
        "                y2 = self.model(x2)\n",
        "\n",
        "                # get loss value\n",
        "                loss = self.loss_fn(y1, y2)\n",
        "\n",
        "                batch_losses.append(loss.cpu().data.item())\n",
        "\n",
        "                # perform backprop on loss value to get gradient values\n",
        "                loss.backward()\n",
        "\n",
        "                # run the optimizer\n",
        "                self.optimizer.step()\n",
        "                \n",
        "                if step % log_interval == 0:\n",
        "                    print(f'Epoch: {epoch} / {num_epochs} Step: {step} Loss: {loss.item()}')\n",
        "                \n",
        "                if step >= 5:\n",
        "                  break\n",
        "            \n",
        "        plot_losses(batch_losses, 'Training Losses')"
      ],
      "execution_count": 8,
      "outputs": []
    },
    {
      "cell_type": "code",
      "metadata": {
        "colab": {
          "base_uri": "https://localhost:8080/",
          "height": 1000
        },
        "id": "pHOAHxvMf7d2",
        "outputId": "6a98fee4-cde7-46e6-cf3d-aa8dc4c783d3"
      },
      "source": [
        "args = {\n",
        "    'datapath': '/content/milli_imagenet',\n",
        "    'cuda': False,\n",
        "    'batch_size': 8,\n",
        "    'num_workers': 2,\n",
        "    'multiple_gpus': False,\n",
        "}\n",
        "args['device'] = torch.device('cuda' if args['cuda'] else 'cpu')\n",
        "args = namedtuple('Args', args.keys())(*args.values())\n",
        "\n",
        "model = get_model(args)\n",
        "\n",
        "optimizer = torch.optim.Adam(\n",
        "    model.parameters(), \n",
        "    lr=0.001, \n",
        "    weight_decay=1e-4\n",
        "    )\n",
        "\n",
        "dataloaders = {}\n",
        "ds = TrainDataset(args)\n",
        "print(f'{len(ds)} images found for training')\n",
        "\n",
        "dataloaders['train'] = torch.utils.data.DataLoader(\n",
        "    ds, \n",
        "    batch_size=args.batch_size, \n",
        "    shuffle=True, \n",
        "    num_workers=args.num_workers\n",
        "    )\n",
        "\n",
        "loss_fn = loss_function\n",
        "simclrobj = SimCLR(model, optimizer, dataloaders, loss_fn)\n",
        "simclrobj.train(args, 50, 5)"
      ],
      "execution_count": 9,
      "outputs": [
        {
          "metadata": {
            "tags": null
          },
          "name": "stdout",
          "output_type": "stream",
          "text": [
            "1250 images found for training\n"
          ]
        },
        {
          "metadata": {
            "tags": null
          },
          "name": "stderr",
          "output_type": "stream",
          "text": [
            "/usr/local/lib/python3.7/dist-packages/torch/nn/functional.py:718: UserWarning: Named tensors and all their associated APIs are an experimental feature and subject to change. Please do not use them for anything important until they are released as stable. (Triggered internally at  /pytorch/c10/core/TensorImpl.h:1156.)\n",
            "  return torch.max_pool2d(input, kernel_size, stride, padding, dilation, ceil_mode)\n"
          ]
        },
        {
          "output_type": "stream",
          "name": "stdout",
          "text": [
            "Epoch: 0 / 50 Step: 0 Loss: 3.3624439239501953\n",
            "Epoch: 0 / 50 Step: 5 Loss: 2.7358880043029785\n",
            "Epoch: 1 / 50 Step: 0 Loss: 2.6437339782714844\n",
            "Epoch: 1 / 50 Step: 5 Loss: 2.6624701023101807\n",
            "Epoch: 2 / 50 Step: 0 Loss: 2.643439531326294\n",
            "Epoch: 2 / 50 Step: 5 Loss: 2.6665561199188232\n",
            "Epoch: 3 / 50 Step: 0 Loss: 2.6138885021209717\n",
            "Epoch: 3 / 50 Step: 5 Loss: 2.671079635620117\n",
            "Epoch: 4 / 50 Step: 0 Loss: 2.616454601287842\n",
            "Epoch: 4 / 50 Step: 5 Loss: 2.522810220718384\n",
            "Epoch: 5 / 50 Step: 0 Loss: 2.9319448471069336\n",
            "Epoch: 5 / 50 Step: 5 Loss: 2.3899030685424805\n",
            "Epoch: 6 / 50 Step: 0 Loss: 2.9090218544006348\n",
            "Epoch: 6 / 50 Step: 5 Loss: 2.5994601249694824\n",
            "Epoch: 7 / 50 Step: 0 Loss: 2.7164626121520996\n",
            "Epoch: 7 / 50 Step: 5 Loss: 2.7092044353485107\n",
            "Epoch: 8 / 50 Step: 0 Loss: 2.8872597217559814\n",
            "Epoch: 8 / 50 Step: 5 Loss: 3.00356388092041\n",
            "Epoch: 9 / 50 Step: 0 Loss: 2.5058791637420654\n",
            "Epoch: 9 / 50 Step: 5 Loss: 2.5968947410583496\n",
            "Epoch: 10 / 50 Step: 0 Loss: 2.637075185775757\n",
            "Epoch: 10 / 50 Step: 5 Loss: 2.6921770572662354\n",
            "Epoch: 11 / 50 Step: 0 Loss: 2.5388669967651367\n",
            "Epoch: 11 / 50 Step: 5 Loss: 2.719895839691162\n",
            "Epoch: 12 / 50 Step: 0 Loss: 2.530224084854126\n",
            "Epoch: 12 / 50 Step: 5 Loss: 2.7598884105682373\n",
            "Epoch: 13 / 50 Step: 0 Loss: 2.6755170822143555\n",
            "Epoch: 13 / 50 Step: 5 Loss: 2.759239673614502\n",
            "Epoch: 14 / 50 Step: 0 Loss: 2.6784815788269043\n",
            "Epoch: 14 / 50 Step: 5 Loss: 2.734447479248047\n",
            "Epoch: 15 / 50 Step: 0 Loss: 2.6251137256622314\n",
            "Epoch: 15 / 50 Step: 5 Loss: 2.629676103591919\n",
            "Epoch: 16 / 50 Step: 0 Loss: 2.5758094787597656\n",
            "Epoch: 16 / 50 Step: 5 Loss: 2.37544584274292\n",
            "Epoch: 17 / 50 Step: 0 Loss: 2.4495699405670166\n",
            "Epoch: 17 / 50 Step: 5 Loss: 2.860377311706543\n",
            "Epoch: 18 / 50 Step: 0 Loss: 2.8786427974700928\n",
            "Epoch: 18 / 50 Step: 5 Loss: 2.7408337593078613\n",
            "Epoch: 19 / 50 Step: 0 Loss: 2.7669875621795654\n",
            "Epoch: 19 / 50 Step: 5 Loss: 2.691743850708008\n",
            "Epoch: 20 / 50 Step: 0 Loss: 2.730745315551758\n",
            "Epoch: 20 / 50 Step: 5 Loss: 2.613878011703491\n",
            "Epoch: 21 / 50 Step: 0 Loss: 2.6767094135284424\n",
            "Epoch: 21 / 50 Step: 5 Loss: 2.6680829524993896\n",
            "Epoch: 22 / 50 Step: 0 Loss: 2.685791492462158\n",
            "Epoch: 22 / 50 Step: 5 Loss: 2.6942811012268066\n",
            "Epoch: 23 / 50 Step: 0 Loss: 2.623544216156006\n",
            "Epoch: 23 / 50 Step: 5 Loss: 2.7003908157348633\n",
            "Epoch: 24 / 50 Step: 0 Loss: 2.8323543071746826\n",
            "Epoch: 24 / 50 Step: 5 Loss: 2.663168430328369\n",
            "Epoch: 25 / 50 Step: 0 Loss: 2.6462693214416504\n",
            "Epoch: 25 / 50 Step: 5 Loss: 2.783388376235962\n",
            "Epoch: 26 / 50 Step: 0 Loss: 2.7394320964813232\n",
            "Epoch: 26 / 50 Step: 5 Loss: 2.438601016998291\n",
            "Epoch: 27 / 50 Step: 0 Loss: 2.5793519020080566\n",
            "Epoch: 27 / 50 Step: 5 Loss: 2.622453212738037\n",
            "Epoch: 28 / 50 Step: 0 Loss: 2.714670181274414\n",
            "Epoch: 28 / 50 Step: 5 Loss: 2.737150192260742\n",
            "Epoch: 29 / 50 Step: 0 Loss: 2.6958401203155518\n",
            "Epoch: 29 / 50 Step: 5 Loss: 2.609376907348633\n",
            "Epoch: 30 / 50 Step: 0 Loss: 2.429342746734619\n",
            "Epoch: 30 / 50 Step: 5 Loss: 2.823780059814453\n",
            "Epoch: 31 / 50 Step: 0 Loss: 2.5007987022399902\n",
            "Epoch: 31 / 50 Step: 5 Loss: 2.666996717453003\n",
            "Epoch: 32 / 50 Step: 0 Loss: 2.5671253204345703\n",
            "Epoch: 32 / 50 Step: 5 Loss: 2.542165756225586\n",
            "Epoch: 33 / 50 Step: 0 Loss: 2.4516494274139404\n",
            "Epoch: 33 / 50 Step: 5 Loss: 2.6724703311920166\n",
            "Epoch: 34 / 50 Step: 0 Loss: 2.67921781539917\n",
            "Epoch: 34 / 50 Step: 5 Loss: 2.6138205528259277\n",
            "Epoch: 35 / 50 Step: 0 Loss: 2.596449613571167\n",
            "Epoch: 35 / 50 Step: 5 Loss: 2.5990731716156006\n",
            "Epoch: 36 / 50 Step: 0 Loss: 2.673868417739868\n",
            "Epoch: 36 / 50 Step: 5 Loss: 2.7799251079559326\n",
            "Epoch: 37 / 50 Step: 0 Loss: 2.6363115310668945\n",
            "Epoch: 37 / 50 Step: 5 Loss: 2.7311861515045166\n",
            "Epoch: 38 / 50 Step: 0 Loss: 2.709873676300049\n",
            "Epoch: 38 / 50 Step: 5 Loss: 2.6356654167175293\n",
            "Epoch: 39 / 50 Step: 0 Loss: 2.746626853942871\n",
            "Epoch: 39 / 50 Step: 5 Loss: 2.5739729404449463\n",
            "Epoch: 40 / 50 Step: 0 Loss: 2.8124120235443115\n",
            "Epoch: 40 / 50 Step: 5 Loss: 2.5734410285949707\n",
            "Epoch: 41 / 50 Step: 0 Loss: 2.770390510559082\n",
            "Epoch: 41 / 50 Step: 5 Loss: 2.7500219345092773\n",
            "Epoch: 42 / 50 Step: 0 Loss: 2.668257713317871\n",
            "Epoch: 42 / 50 Step: 5 Loss: 2.7316601276397705\n",
            "Epoch: 43 / 50 Step: 0 Loss: 2.7448601722717285\n",
            "Epoch: 43 / 50 Step: 5 Loss: 2.6882646083831787\n",
            "Epoch: 44 / 50 Step: 0 Loss: 2.6000382900238037\n",
            "Epoch: 44 / 50 Step: 5 Loss: 2.605228900909424\n",
            "Epoch: 45 / 50 Step: 0 Loss: 2.7467997074127197\n",
            "Epoch: 45 / 50 Step: 5 Loss: 2.5767531394958496\n",
            "Epoch: 46 / 50 Step: 0 Loss: 2.779123544692993\n",
            "Epoch: 46 / 50 Step: 5 Loss: 2.6439836025238037\n",
            "Epoch: 47 / 50 Step: 0 Loss: 2.6696014404296875\n",
            "Epoch: 47 / 50 Step: 5 Loss: 2.449052333831787\n",
            "Epoch: 48 / 50 Step: 0 Loss: 2.677030563354492\n",
            "Epoch: 48 / 50 Step: 5 Loss: 2.6719563007354736\n",
            "Epoch: 49 / 50 Step: 0 Loss: 2.7582578659057617\n",
            "Epoch: 49 / 50 Step: 5 Loss: 2.6787376403808594\n"
          ]
        },
        {
          "output_type": "display_data",
          "data": {
            "image/png": "[encoded data removed]",
            "text/plain": [
              "<Figure size 720x720 with 1 Axes>"
            ]
          },
          "metadata": {
            "needs_background": "light"
          }
        }
      ]
    },
    {
      "cell_type": "code",
      "metadata": {
        "id": "qJFUrjRwf-0W"
      },
      "source": [
        ""
      ],
      "execution_count": 9,
      "outputs": []
    }
  ]
}